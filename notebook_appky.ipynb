{
 "metadata": {
  "kernelspec": {
   "display_name": "Streamlit Notebook",
   "name": "streamlit"
  }
 },
 "nbformat_minor": 5,
 "nbformat": 4,
 "cells": [
  {
   "cell_type": "markdown",
   "id": "c8a96a50-f1f4-4197-860d-9930dfe3574e",
   "metadata": {
    "name": "cell3",
    "collapsed": false
   },
   "source": "# 📊 **Zákaznický Příjmový a Rizikový Dashboard**\n\nVítejte na interaktivním dashboardu zaměřeném na analýzu příjmů a rizik klientského portfolia. Tento nástroj vám umožní nahlédnout do klíčových faktorů ovlivňujících příjmy podle produktů a rozložení rizikových kategorií, a také efektivně identifikovat a sledovat nejrizikovější klienty.\n\n### 💡 **Hlavní funkce dashboardu:**\n\n1. **Přehled Příjmů Podle Produktu**  \n   - Vizualizace průměrného příjmu v jednotlivých produktových kategoriích.\n   - Interaktivní výběr produktu pro detailní analýzu a přehled průměrného příjmu.\n\n2. **Rizikový Profil a Doporučení**  \n   - Analýza rozložení rizikových kategorií v klientském portfoliu.\n   - Doporučení na základě aktuálního rizikového rozložení:\n     - Upozornění na zvýšené riziko s doporučením, jak optimalizovat nabídku.\n     - Návod na možné strategické kroky dle rozložení rizikového profilu.\n\n3. **Interaktivní Výběr Rizikových Klientů**  \n   - Možnost přehledného filtrování a výběru klientů s vysokým rizikem.\n   - Funkce pro přidání poznámek k jednotlivým klientům přímo v aplikaci, což umožňuje efektivní sledování dalších kroků a komunikace s týmem.\n\n### 🎯 **Cíl Dashboardu**\n\nTento dashboard vám poskytne nástroje a analytické vhledy potřebné pro rychlé a efektivní rozhodování o optimalizaci portfolia produktů, lepší kontrolu nad expozicí vůči klientům s vysokým rizikem a přehledné sledování klíčových klientů. Díky interaktivním možnostem si můžete přizpůsobit pohled na data dle aktuálních potřeb a obchodních priorit.\n\n### 📌 **Návod k použití**\n\n- **Výběr Produktu**: Zvolte produkt z rozbalovacího menu pro zobrazení detailních statistik.\n- **Nastavení Rizikového Scénáře**: Úpravou rizikového faktoru můžete simulovat různé scénáře dopadu na příjem.\n- **Přidání Poznámek k Rizikovým Klientům**: Vyberte klienta, zadejte poznámku a uložte ji, aby byly klíčové informace snadno dostupné vašemu týmu.\n\n**Prozkoumejte možnosti dashboardu a získejte nový vhled do struktury příjmů a rizik vašeho klientského portfolia.**\n"
  },
  {
   "cell_type": "code",
   "id": "0cd4bdfa-68b0-4594-8a33-410397f75ed9",
   "metadata": {
    "language": "sql",
    "name": "cell13",
    "collapsed": false
   },
   "outputs": [],
   "source": "-- Výběr dat pro BI dashboard\nSELECT \n    CLIENT_ID,\n    AGE,\n    INCOME,\n    REGION,\n    PRODUCT_TYPE,\n    CREDIT_SCORE,\n    PREDICTED_REVENUE,\n    RISK_CATEGORY,\n    SCENARIO_FACTOR,\n    NOTE\nFROM CUSTOMER_DATA;\n\n",
   "execution_count": null
  },
  {
   "cell_type": "code",
   "id": "fcc15e04-ff17-4100-a3d0-60ccb86af77d",
   "metadata": {
    "language": "python",
    "name": "cell14",
    "collapsed": false
   },
   "outputs": [],
   "source": "import streamlit as st\nimport pandas as pd\nimport plotly.express as px\nfrom snowflake.snowpark import Session  # Importujte Snowflake Session pro práci s databází\n\n# Nastavení připojení ke Snowflake\nsession = Session.builder.getOrCreate()  # Vytvoří nebo načte existující Snowflake session\n\n# Načtení výsledků SQL dotazu do Pandas DataFrame\ndf = session.sql(\"SELECT * FROM TEST.PUBLIC.CUSTOMER_DATA\").to_pandas()  # Přímo načte data z tabulky\n\n# Základní nastavení aplikace\nst.title(\"Zákaznický Příjmový a Rizikový Dashboard\")\n\n# 1. Přehled rizikových kategorií a příjmů\nst.subheader(\"Přehled Rizikových Kategorií a Příjmů Podle Produktu\")\n\n# Výběr produktu pro podrobnosti\nselected_product = st.selectbox(\"Vyber produkt:\", df['PRODUCT_TYPE'].unique())\nfiltered_df = df[df['PRODUCT_TYPE'] == selected_product]\n\n# Zobrazení průměrného příjmu a rozložení rizikových kategorií\navg_income = filtered_df['INCOME'].mean()\nrisk_distribution = filtered_df['RISK_CATEGORY'].value_counts()\n\nst.write(f\"**Průměrný příjem pro produkt {selected_product}:** {avg_income:.2f} CZK\")\nst.write(\"**Rozložení rizikových kategorií:**\")\nst.bar_chart(risk_distribution)\n\n# Doporučení na základě rizikového faktoru\nst.subheader(\"Doporučení na základě Rizikového Rozložení\")\n\n# Přehled klientů s nejvyšším rizikem\nst.write(\"Top 10 klientů s nejvyšším rizikem:\")\nhigh_risk_clients = df[df['RISK_CATEGORY'] == 'High Risk'].sort_values(by='CREDIT_SCORE').head(10)\nst.dataframe(high_risk_clients[['CLIENT_ID', 'CREDIT_SCORE', 'INCOME', 'PRODUCT_TYPE']])\n\n# Doporučení na základě rozložení rizikových kategorií\nif risk_distribution.get(\"High Risk\", 0) > 10:\n    st.warning(\"Doporučujeme zvážit omezení expozice vůči klientům s vysokým rizikem.\")\nelif risk_distribution.get(\"Medium Risk\", 0) > 10:\n    st.info(\"Pozor na klienty s průměrným rizikem – doporučujeme přezkoumat podmínky produktů.\")\nelse:\n    st.success(\"Portfolio klientů je v nízkém riziku, pokračujte v současné strategii.\")\n\n# 2. Přidání poznámky k rizikovým klientům\nst.subheader(\"Přidání Poznámky k Rizikovým Klientům\")\n\n# Možnost přidat poznámku k vybranému klientovi\nselected_client = st.selectbox(\"Vyberte klienta pro přidání poznámky:\", high_risk_clients['CLIENT_ID'])\nnote = st.text_input(\"Poznámka pro klienta\", \"Vyžaduje další posouzení\")\n\n# Uložení poznámky do databáze\nif st.button(\"Uložit poznámku\"):\n    # SQL příkaz pro zápis poznámky k vybranému klientovi\n    query = f\"\"\"\n    UPDATE TEST.PUBLIC.CUSTOMER_DATA\n    SET NOTE = '{note}'\n    WHERE CLIENT_ID = '{selected_client}';\n    \"\"\"\n    \n    # Provedení SQL dotazu přímo z aplikace Streamlit\n    session.sql(query).collect()\n    \n    st.success(f\"Poznámka '{note}' byla uložena pro klienta {selected_client}.\")\n",
   "execution_count": null
  },
  {
   "cell_type": "markdown",
   "id": "b7572007-7f20-48b9-8973-e543ca7c1c30",
   "metadata": {
    "name": "cell15",
    "collapsed": false
   },
   "source": "# 💡 Interaktivní Analýza Recenzí České Spořitelny\n\nVítejte v ukázce datové analýzy a vizualizace s využitím **Streamlit**, který umožňuje vytvářet interaktivní aplikace přímo v Pythonu.\n\n## 🔎 Cíl Ukázky\n\n**Jaký je hlavní cíl?** Analyzovat zpětnou vazbu klientů České spořitelny na pobočky pomocí moderních datových metod, které nám pomohou pochopit sentiment a klíčové oblasti, ve kterých by se služby mohly zlepšit.\n\nTato ukázka:\n- 📊 Analyzuje sentiment jednotlivých recenzí klientů\n- 🧠 Automaticky shrnuje klíčové body každé recenze pomocí **AI modelů**\n- 🖋 Extrahuje klíčová slova, která napovídají o hlavních tématech\n\n## 🚀 Jak to funguje?\n\nDíky propojení **Snowflake Cortex** a **Streamlit** můžeme v reálném čase analyzovat textová data a převést je do vizuální podoby. Pomocí AI modelů se texty recenzí překládají, analyzují na sentiment a shrnují klíčové body.\n\nV rámci této aplikace uvidíte různé interaktivní možnosti:\n- **Filtrovat** recenze podle klíčových slov nebo sentimentu\n- **Porovnávat** průměrné hodnocení poboček a sentiment\n- **Vizualizovat** klíčová slova a jejich vztah k sentimentu a hodnocení\n\n---\n\nPojďme se podívat na to, co nám naše data mohou prozradit! 👇\n"
  },
  {
   "cell_type": "markdown",
   "id": "98e14048-9c97-478c-bfda-98fbe15936f6",
   "metadata": {
    "name": "cell4",
    "collapsed": false
   },
   "source": ""
  },
  {
   "cell_type": "code",
   "id": "53ffe07a-a918-4abd-a113-a359755317c2",
   "metadata": {
    "language": "sql",
    "name": "cell2",
    "collapsed": false
   },
   "outputs": [],
   "source": "CREATE OR REPLACE TABLE TEST.PUBLIC.ANALYZED_RECENZE_POBOCKY AS\nSELECT \n    NAME,\n    AUTHOR_RATING,\n    REVIEW_TEXT,\n\n    -- Překlad recenze do angličtiny pomocí COMPLETE a mistral-7b\n    SNOWFLAKE.CORTEX.COMPLETE('mistral-7b', 'Translate the following Czech text to English accurately without adding or hallucinating any extra information: ' || REVIEW_TEXT) AS REVIEW_TEXT_ENGLISH,   \n\n    -- Sentiment analýza přeloženého textu (nyní z přeloženého textu)\n    SNOWFLAKE.CORTEX.SENTIMENT(REVIEW_TEXT_ENGLISH) AS SENTIMENT,\n\n    -- Hlavní body generované z přeloženého textu\n    SNOWFLAKE.CORTEX.COMPLETE('mistral-7b', 'Give one main keyword from this review, in a single word only, do not write more than one word in your response, give me just the keyword and nothing else: ' || REVIEW_TEXT_ENGLISH) AS KLICOVE_SLOVO\nFROM \n    TEST.PUBLIC.RECENZE_POBOCKY;\n",
   "execution_count": null
  },
  {
   "cell_type": "code",
   "id": "a50838be-15bd-47ae-97fb-4b7cb08c8119",
   "metadata": {
    "language": "sql",
    "name": "cell5",
    "collapsed": false
   },
   "outputs": [],
   "source": "SELECT *\nFROM TEST.PUBLIC.ANALYZED_RECENZE_POBOCKY",
   "execution_count": null
  },
  {
   "cell_type": "code",
   "id": "b6a6081b-10cb-4e25-ae43-f111ffe393eb",
   "metadata": {
    "language": "python",
    "name": "cell6",
    "collapsed": false
   },
   "outputs": [],
   "source": "import streamlit as st\nimport pandas as pd\nimport plotly.express as px\nfrom wordcloud import WordCloud\nimport matplotlib.pyplot as plt\n\n# Načtení dat z analyzované tabulky\ndf = cell5.to_pandas()\n\nst.title(\"📊 Manažerský Dashboard: Analýza Recenzí Poboček\")\n\n# 1. Vyhledávání podle klíčových slov\nst.subheader(\"🔍 Vyhledávání recenzí podle klíčových slov\")\nsearch_query = st.text_input(\"Zadejte slovo nebo frázi k vyhledání:\")\n\nif search_query:\n    filtered_df = df[df['REVIEW_TEXT_ENGLISH'].str.contains(search_query, case=False) | df['KLICOVE_SLOVO'].str.contains(search_query, case=False)]\n    st.write(f\"**Nalezeno {len(filtered_df)} recenzí obsahujících '{search_query}':**\")\n    st.dataframe(filtered_df[['NAME', 'AUTHOR_RATING', 'REVIEW_TEXT', 'REVIEW_TEXT_ENGLISH', 'SENTIMENT', 'KLICOVE_SLOVO']])\nelse:\n    st.info(\"Zadejte slovo nebo frázi pro vyhledávání, a prozkoumejte recenze poboček dle klíčových slov!\")\n\n# 2. Filtrování podle sentimentu s výraznými kategoriemi\nst.subheader(\"🎭 Filtrovat recenze podle sentimentu\")\nsentiment_options = {\n    \"Velmi negativní (-1 až -0.5)\": (-1, -0.5),\n    \"Negativní (-0.5 až 0)\": (-0.5, 0),\n    \"Neutrální (0)\": (0, 0),\n    \"Pozitivní (0 až 0.5)\": (0, 0.5),\n    \"Velmi pozitivní (0.5 až 1)\": (0.5, 1)\n}\nselected_sentiment = st.radio(\"Vyberte kategorii sentimentu:\", list(sentiment_options.keys()))\nmin_sentiment, max_sentiment = sentiment_options[selected_sentiment]\n\nfiltered_by_sentiment = df[(df['SENTIMENT'] >= min_sentiment) & (df['SENTIMENT'] <= max_sentiment)]\nst.write(f\"Zobrazuji {len(filtered_by_sentiment)} recenzí s vybranou kategorií sentimentu **{selected_sentiment}**:\")\nst.dataframe(filtered_by_sentiment[['NAME', 'AUTHOR_RATING', 'REVIEW_TEXT', 'REVIEW_TEXT_ENGLISH', 'SENTIMENT', 'KLICOVE_SLOVO']])\n\n# 3. Průměrné hodnocení poboček\nst.subheader(\"⭐ Průměrné hodnocení poboček\")\navg_rating_df = df.groupby('NAME')['AUTHOR_RATING'].mean().reset_index()\nfig_avg_rating = px.bar(avg_rating_df, x='AUTHOR_RATING', y='NAME', orientation='h', color='AUTHOR_RATING',\n                        color_continuous_scale='Viridis', title=\"Průměrné hodnocení poboček\")\nfig_avg_rating.update_layout(xaxis_title=\"Průměrné hodnocení\", yaxis_title=\"Pobočka\")\nst.plotly_chart(fig_avg_rating)\n\n# 4. Insight tabulka pro klíčová slova s podbarvením na základě sentimentu\nst.subheader(\"📋 Insight Tabulka pro TOP 10 Kladných a Záporných Klíčových Slov\")\n\n# Zajištění, že se použije pouze první slovo klíčového slova\nexploded_df = df.assign(KEYWORD=df['KLICOVE_SLOVO'].str.split().str[0]).dropna()\ninsight_df = exploded_df.groupby('KEYWORD').agg(\n    prumerny_sentiment=('SENTIMENT', 'mean')\n).reset_index()\n\n# Rozdělení na kladná a záporná klíčová slova\ntop_positive_keywords = insight_df.nlargest(10, 'prumerny_sentiment').reset_index(drop=True)\ntop_negative_keywords = insight_df.nsmallest(10, 'prumerny_sentiment').reset_index(drop=True)\n\n# Funkce pro jednoduché podbarvení na základě hodnot sentimentu\ndef color_sentiment(val):\n    color = 'lightgreen' if val > 0 else 'lightcoral'\n    return f'background-color: {color}'\n\n# Zobrazení tabulek s podbarvením bez indexu\ncol1, col2 = st.columns(2)\n\nwith col1:\n    st.markdown(\"**TOP 10 Kladných Klíčových Slov**\")\n    st.dataframe(top_positive_keywords.style.map(color_sentiment, subset=['prumerny_sentiment']).set_properties(**{'text-align': 'center'}))\n\nwith col2:\n    st.markdown(\"**TOP 10 Záporných Klíčových Slov**\")\n    st.dataframe(top_negative_keywords.style.map(color_sentiment, subset=['prumerny_sentiment']).set_properties(**{'text-align': 'center'}))\n\n# 5. Interaktivní Word Cloud pro kladné a záporné recenze z přeložených textů\nst.subheader(\"🌥️ Interaktivní Word Cloud z přeložených textů recenzí\")\n\n# Nastavení pro Word Cloud\nsentiment_choice = st.radio(\"Zobrazit Word Cloud pro:\", (\"Kladné Recenze\", \"Záporné Recenze\"))\nmax_words = st.slider(\"Maximální počet slov:\", min_value=10, max_value=200, value=100, step=10)\n\n# Filtrace textů pro kladné nebo záporné recenze na základě výběru\nif sentiment_choice == \"Kladné Recenze\":\n    selected_texts = \" \".join(df[df['SENTIMENT'] > 0.2]['REVIEW_TEXT_ENGLISH'].dropna())\n    colormap = 'Greens'\nelse:\n    selected_texts = \" \".join(df[df['SENTIMENT'] < -0.2]['REVIEW_TEXT_ENGLISH'].dropna())\n    colormap = 'Reds'\n\n# Vytvoření a zobrazení Word Cloudu\nwordcloud = WordCloud(background_color='white', colormap=colormap, width=800, height=400, max_words=max_words).generate(selected_texts)\nplt.figure(figsize=(10, 5))\nplt.imshow(wordcloud, interpolation=\"bilinear\")\nplt.axis(\"off\")\nst.pyplot(plt)",
   "execution_count": null
  }
 ]
}